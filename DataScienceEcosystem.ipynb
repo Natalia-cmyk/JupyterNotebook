{
 "cells": [
  {
   "cell_type": "markdown",
   "id": "52a125e4-f533-4aa7-a344-0ffe992d59ce",
   "metadata": {},
   "source": [
    "#Exercise 2: Create markdown cell with title of the notebook"
   ]
  },
  {
   "cell_type": "markdown",
   "id": "3544cce7-0a19-425e-81c0-3d2823a198cc",
   "metadata": {},
   "source": [
    "# Data Science Tools and Ecosystem"
   ]
  },
  {
   "cell_type": "markdown",
   "id": "d64b65b5-e185-44fb-8a67-41323093d31d",
   "metadata": {},
   "source": [
    "#Exercise 3 - Create a markdown cell for an introduction"
   ]
  },
  {
   "cell_type": "markdown",
   "id": "66392d7e-3edf-427a-aca5-67ec10ff720e",
   "metadata": {},
   "source": [
    "In this notebook, Data Science Tools and Ecosystem are summarized."
   ]
  },
  {
   "cell_type": "markdown",
   "id": "60b50599-7085-4157-8587-0d9525920ba2",
   "metadata": {},
   "source": [
    "#Exercise 10 - Insert a markdown cell to list Objectives"
   ]
  },
  {
   "cell_type": "markdown",
   "id": "f8566663-1f59-41f5-b3b8-cee10dce6023",
   "metadata": {},
   "source": [
    "**Objectives:**\n",
    "* Identify the criteria and functions for determining which programming language to learn\n",
    "* Enumerate examples of various libraries\n",
    "* Describe the use of notebooks in JupyterLab\n",
    "* Describe the capabilities of R and the RStudio environment\n",
    "* Explain version control and describe the Git and GitHub ecosystem"
   ]
  },
  {
   "cell_type": "markdown",
   "id": "625e315d-4bf2-46cf-a137-ab744b4e8cdc",
   "metadata": {},
   "source": [
    "#Exercise 4 - Create a markdown cell to list data science languages"
   ]
  },
  {
   "cell_type": "markdown",
   "id": "c61e264a-45ba-4332-ae91-a75cd64b96c8",
   "metadata": {},
   "source": [
    "Some of the popular languages that Data Scientists use are:\n",
    "1. Python\n",
    "2. R\n",
    "3. SQL\n",
    "4. Julia"
   ]
  },
  {
   "cell_type": "markdown",
   "id": "a5decb63-a244-4de2-9e22-9de718dc5d4b",
   "metadata": {},
   "source": [
    "#Exercise 5 - Create a markdown cell to list data science libraries"
   ]
  },
  {
   "cell_type": "markdown",
   "id": "49e0b268-33ac-40ac-9ac5-9ce6ee68617d",
   "metadata": {},
   "source": [
    "Some of the commonly used libraries used by Data Scientists include:\n",
    "1. Pandas\n",
    "2. NumPy\n",
    "3. ggplot\n",
    "4. TensorFlow"
   ]
  },
  {
   "cell_type": "markdown",
   "id": "58aa1b35-3ac2-40b0-a8cd-114ddf7c1dd0",
   "metadata": {},
   "source": [
    "#Exercise 6 - Create a markdown cell with a table of Data Science tools"
   ]
  },
  {
   "cell_type": "markdown",
   "id": "2b595456-fa76-455e-8aef-b0f6fdf36fbe",
   "metadata": {},
   "source": [
    "| Data Science Tools |\n",
    "| -------------|\n",
    "| Jupiter Notebook |\n",
    "| RStudio |\n",
    "| VS Code |"
   ]
  },
  {
   "cell_type": "markdown",
   "id": "41f3cd98-09b3-4a28-8f88-6e205b458b5d",
   "metadata": {},
   "source": [
    "#Exercise 7 - Create a markdown cell introducing arithmetic expression examples"
   ]
  },
  {
   "cell_type": "markdown",
   "id": "4ecc6377-2620-4deb-b49e-a836411ce352",
   "metadata": {},
   "source": [
    "### Below are a few examples of evaluating arithmetic expressions in Python\n",
    "23+6"
   ]
  },
  {
   "cell_type": "markdown",
   "id": "70237fcf-1489-412c-9df1-ad9073f16a83",
   "metadata": {},
   "source": [
    "#Exercise 8 - Create a code cell to multiply and add numbers"
   ]
  },
  {
   "cell_type": "markdown",
   "id": "86f1f885-f522-4b89-bd0c-13f5b2e9be9d",
   "metadata": {},
   "source": [
    "This a simple arithmetic expression to mutiply then add integers"
   ]
  },
  {
   "cell_type": "code",
   "execution_count": 15,
   "id": "e3a3bf03-610d-4ccb-8894-32481135bb5d",
   "metadata": {},
   "outputs": [
    {
     "data": {
      "text/plain": [
       "17"
      ]
     },
     "execution_count": 15,
     "metadata": {},
     "output_type": "execute_result"
    }
   ],
   "source": [
    "(3*4)+5"
   ]
  },
  {
   "cell_type": "markdown",
   "id": "39d97b00-fed9-42b9-9506-719ec431701b",
   "metadata": {},
   "source": [
    "#Exercise 9 - Create a code cell to convert minutes to hours"
   ]
  },
  {
   "cell_type": "code",
   "execution_count": 16,
   "id": "92836ada-74f7-4498-9e18-40c0ce8568b6",
   "metadata": {},
   "outputs": [
    {
     "name": "stdout",
     "output_type": "stream",
     "text": [
      "200minutos equivalen a 3.3333333333333335 horas\n"
     ]
    }
   ],
   "source": [
    "minutos=200\n",
    "horas=minutos/60\n",
    "print(f\"{minutos}minutos equivalen a {horas} horas\")"
   ]
  },
  {
   "cell_type": "markdown",
   "id": "3cb7ec82-1dcc-4818-bb51-e68183cc8099",
   "metadata": {},
   "source": [
    "#Exercise 11 - Create a markdown cell to indicate the Author's name"
   ]
  },
  {
   "cell_type": "markdown",
   "id": "1b09c68e-7a1c-4307-831b-4eae5d8e60ec",
   "metadata": {},
   "source": [
    "## Author\n",
    "Natalia Lepe"
   ]
  },
  {
   "cell_type": "code",
   "execution_count": null,
   "id": "d7b13a85-13cc-46e4-b47e-9c14b6fa4897",
   "metadata": {},
   "outputs": [],
   "source": []
  }
 ],
 "metadata": {
  "kernelspec": {
   "display_name": "Python 3 (ipykernel)",
   "language": "python",
   "name": "python3"
  },
  "language_info": {
   "codemirror_mode": {
    "name": "ipython",
    "version": 3
   },
   "file_extension": ".py",
   "mimetype": "text/x-python",
   "name": "python",
   "nbconvert_exporter": "python",
   "pygments_lexer": "ipython3",
   "version": "3.12.8"
  }
 },
 "nbformat": 4,
 "nbformat_minor": 5
}
